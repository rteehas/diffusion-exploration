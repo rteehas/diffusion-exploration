{
 "cells": [
  {
   "cell_type": "code",
   "execution_count": 2,
   "id": "52171a96",
   "metadata": {},
   "outputs": [
    {
     "name": "stderr",
     "output_type": "stream",
     "text": [
      "/home/t-ryanteehan/miniconda3/envs/diffusion/lib/python3.13/site-packages/tqdm/auto.py:21: TqdmWarning: IProgress not found. Please update jupyter and ipywidgets. See https://ipywidgets.readthedocs.io/en/stable/user_install.html\n",
      "  from .autonotebook import tqdm as notebook_tqdm\n"
     ]
    }
   ],
   "source": [
    "from datasets import load_dataset\n",
    "import os\n",
    "from transformers import CLIPTextModel, CLIPTokenizer\n",
    "import torch"
   ]
  },
  {
   "cell_type": "code",
   "execution_count": 3,
   "id": "b40f19b7",
   "metadata": {},
   "outputs": [],
   "source": [
    "files = os.listdir(\"diffusiondb_data/export/home/ra63ral/dev/diffusion-distillation-datasets/data/diffusiondb/prompt_shards/\")\n",
    "\n",
    "files = [\"diffusiondb_data/export/home/ra63ral/dev/diffusion-distillation-datasets/data/diffusiondb/prompt_shards/\" + f for f in files]"
   ]
  },
  {
   "cell_type": "code",
   "execution_count": 4,
   "id": "caa07b88",
   "metadata": {},
   "outputs": [],
   "source": [
    "all_prompts = []\n",
    "\n",
    "for file in files:\n",
    "    with open(file, 'r') as fp:\n",
    "        lines = [l.strip() for l in fp.readlines()]\n",
    "        all_prompts += lines"
   ]
  },
  {
   "cell_type": "code",
   "execution_count": 12,
   "id": "08e750b4",
   "metadata": {},
   "outputs": [],
   "source": [
    "medical_prompts = []\n",
    "\n",
    "for p in all_prompts:\n",
    "    if \"oxygen mask\" in p:\n",
    "        medical_prompts.append(p)"
   ]
  },
  {
   "cell_type": "code",
   "execution_count": 11,
   "id": "c868e721",
   "metadata": {},
   "outputs": [
    {
     "data": {
      "text/plain": [
       "'ww2 photo of darth vader shaking hands with adolf hitler, highly detailed faces'"
      ]
     },
     "execution_count": 11,
     "metadata": {},
     "output_type": "execute_result"
    }
   ],
   "source": [
    "medical_prompts[0]"
   ]
  },
  {
   "cell_type": "code",
   "execution_count": 34,
   "id": "b91cad0b",
   "metadata": {},
   "outputs": [],
   "source": [
    "from sentence_transformers import SentenceTransformer\n"
   ]
  },
  {
   "cell_type": "code",
   "execution_count": 71,
   "id": "f6a61a69",
   "metadata": {},
   "outputs": [],
   "source": [
    "import numpy as np\n",
    "import gc"
   ]
  },
  {
   "cell_type": "code",
   "execution_count": 72,
   "id": "4e838315",
   "metadata": {},
   "outputs": [],
   "source": [
    "# 2. Let Python’s GC break the last references\n",
    "gc.collect()                         # host-side sweep  :contentReference[oaicite:0]{index=0}\n",
    "\n",
    "# 3. Hand memory back to the CUDA driver\n",
    "torch.cuda.empty_cache()             # flush the caching allocator  :contentReference[oaicite:1]{index=1}\n",
    "torch.cuda.ipc_collect()             # drop any IPC handles          :contentReference[oaicite:2]{index=2}\n"
   ]
  },
  {
   "cell_type": "code",
   "execution_count": 73,
   "id": "726f7944",
   "metadata": {},
   "outputs": [],
   "source": [
    "model = SentenceTransformer('sentence-transformers/sentence-t5-base').to(\"cuda\")\n",
    "\n",
    "sample_idxs = np.random.choice(len(all_prompts), size=10000, replace=False)\n",
    "sampled_prompts = [all_prompts[i] for i in sample_idxs]\n",
    "embeds = model.encode(sampled_prompts, batch_size=100)\n"
   ]
  },
  {
   "cell_type": "code",
   "execution_count": 74,
   "id": "d4a9ab50",
   "metadata": {},
   "outputs": [],
   "source": [
    "centered = embeds - embeds.mean(axis=0, keepdims=True)"
   ]
  },
  {
   "cell_type": "code",
   "execution_count": 75,
   "id": "59e82585",
   "metadata": {},
   "outputs": [],
   "source": [
    "from sklearn.decomposition import PCA"
   ]
  },
  {
   "cell_type": "code",
   "execution_count": 79,
   "id": "63d7c138",
   "metadata": {},
   "outputs": [],
   "source": [
    "pca = PCA(n_components=1)\n",
    "transformed_embeds = pca.fit_transform(centered)"
   ]
  },
  {
   "cell_type": "code",
   "execution_count": 83,
   "id": "857d9b75",
   "metadata": {},
   "outputs": [
    {
     "data": {
      "text/plain": [
       "(10000, 1)"
      ]
     },
     "execution_count": 83,
     "metadata": {},
     "output_type": "execute_result"
    }
   ],
   "source": [
    "transformed_embeds.shape"
   ]
  },
  {
   "cell_type": "code",
   "execution_count": 84,
   "id": "06c0a16e",
   "metadata": {},
   "outputs": [],
   "source": [
    "def extreme_indices(a, pct):\n",
    "    \"\"\"\n",
    "    a   : numpy array, any shape\n",
    "    pct : float, percentage in (0,100) – e.g. 5.0 for top/bottom 5 %\n",
    "    returns (bottom_idx, top_idx) as 1-D index arrays that map into `a.ravel()`\n",
    "    \"\"\"\n",
    "    x = a.ravel()                          # flatten, keeps original ordering\n",
    "    n = x.size\n",
    "    k = int(np.ceil(pct/100 * n))          # number of elements in each tail\n",
    "\n",
    "    # bottom k (smallest) – argpartition puts the k smallest in the first k slots\n",
    "    bot_idx = np.argpartition(x, k-1)[:k]\n",
    "\n",
    "    # top k (largest) – negative index trick\n",
    "    top_idx = np.argpartition(x, -k)[-k:]\n",
    "\n",
    "    # optional: order them if you need sorted tails\n",
    "    # bot_idx = bot_idx[np.argsort(x[bot_idx])]\n",
    "    # top_idx = top_idx[np.argsort(-x[top_idx])]\n",
    "\n",
    "    return bot_idx, top_idx\n"
   ]
  },
  {
   "cell_type": "code",
   "execution_count": 85,
   "id": "b8cc763d",
   "metadata": {},
   "outputs": [],
   "source": [
    "bottom, top = extreme_indices(transformed_embeds, 20)"
   ]
  },
  {
   "cell_type": "code",
   "execution_count": 86,
   "id": "df183794",
   "metadata": {},
   "outputs": [],
   "source": [
    "pca = PCA(n_components=2)\n",
    "transformed_embeds = pca.fit_transform(centered)"
   ]
  },
  {
   "cell_type": "code",
   "execution_count": 90,
   "id": "34d4abb2",
   "metadata": {},
   "outputs": [
    {
     "data": {
      "text/plain": [
       "(4000, 2)"
      ]
     },
     "execution_count": 90,
     "metadata": {},
     "output_type": "execute_result"
    }
   ],
   "source": [
    "rows = np.r_[bottom, top]\n",
    "selected = transformed_embeds[rows]\n",
    "selected.shape"
   ]
  },
  {
   "cell_type": "code",
   "execution_count": 80,
   "id": "2d83b9f3",
   "metadata": {},
   "outputs": [],
   "source": [
    "import matplotlib.pyplot as plt"
   ]
  },
  {
   "cell_type": "code",
   "execution_count": 92,
   "id": "f18b0d10",
   "metadata": {},
   "outputs": [
    {
     "data": {
      "text/plain": [
       "<matplotlib.collections.PathCollection at 0x7570e4672710>"
      ]
     },
     "execution_count": 92,
     "metadata": {},
     "output_type": "execute_result"
    },
    {
     "data": {
      "image/png": "[encoded data removed]",
      "text/plain": [
       "<Figure size 640x480 with 1 Axes>"
      ]
     },
     "metadata": {},
     "output_type": "display_data"
    }
   ],
   "source": [
    "plt.scatter(selected[:,0], selected[:,1])"
   ]
  },
  {
   "cell_type": "code",
   "execution_count": null,
   "id": "e274f45e",
   "metadata": {},
   "outputs": [],
   "source": []
  }
 ],
 "metadata": {
  "kernelspec": {
   "display_name": "diffusion",
   "language": "python",
   "name": "python3"
  },
  "language_info": {
   "codemirror_mode": {
    "name": "ipython",
    "version": 3
   },
   "file_extension": ".py",
   "mimetype": "text/x-python",
   "name": "python",
   "nbconvert_exporter": "python",
   "pygments_lexer": "ipython3",
   "version": "3.13.2"
  }
 },
 "nbformat": 4,
 "nbformat_minor": 5
}
