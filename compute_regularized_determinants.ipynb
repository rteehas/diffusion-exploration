{
 "cells": [
  {
   "cell_type": "code",
   "execution_count": null,
   "id": "29481ed2",
   "metadata": {},
   "outputs": [],
   "source": [
    "from aesthetics_ddpo_trainer import *\n",
    "from aesthetics_ddpo import *"
   ]
  },
  {
   "cell_type": "code",
   "execution_count": null,
   "id": "71e3da9c",
   "metadata": {},
   "outputs": [],
   "source": [
    "trainer = AestheticsDDPOTrainer(\n",
    "        training_args,\n",
    "        aesthetic_scorer(),\n",
    "        train_prompt_iterator,\n",
    "        pipeline,\n",
    "        image_samples_hook=image_outputs_logger,\n",
    "        eval_prompts=eval_prompt_iterator.prompts,\n",
    "        tail_classes=tail_classes,\n",
    "        label_mapping=eval_prompt_iterator.label_map\n",
    "    )"
   ]
  }
 ],
 "metadata": {
  "kernelspec": {
   "display_name": "diffusion",
   "language": "python",
   "name": "python3"
  },
  "language_info": {
   "codemirror_mode": {
    "name": "ipython",
    "version": 3
   },
   "file_extension": ".py",
   "mimetype": "text/x-python",
   "name": "python",
   "nbconvert_exporter": "python",
   "pygments_lexer": "ipython3",
   "version": "3.13.2"
  }
 },
 "nbformat": 4,
 "nbformat_minor": 5
}
