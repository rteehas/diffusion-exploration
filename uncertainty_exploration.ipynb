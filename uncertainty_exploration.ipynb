{
 "cells": [
  {
   "cell_type": "code",
   "execution_count": null,
   "id": "aa2378da",
   "metadata": {},
   "outputs": [],
   "source": [
    "from diffusers import AutoencoderKL, UNet2DConditionModel, PNDMScheduler, StableDiffusionPipeline\n",
    "import torch"
   ]
  },
  {
   "cell_type": "code",
   "execution_count": null,
   "id": "d86e749e",
   "metadata": {},
   "outputs": [],
   "source": [
    "pipe = StableDiffusionPipeline.from_pretrained(\"runwayml/stable-diffusion-v1-5\").to(\"cuda\")"
   ]
  },
  {
   "cell_type": "code",
   "execution_count": null,
   "id": "fb4ec822",
   "metadata": {},
   "outputs": [],
   "source": [
    "tail_classes=[\"spotted salamander\", \"English foxhound\", \"barracouta\"]\n",
    "tail_idxs = [28, 167, 389]\n",
    "head_classes = [\"pickup\", \"monitor\", \"grocery store\"]\n",
    "head_idxs = [717, 664, 582]\n",
    "# tail_classes = ['jacamar', 'European gallinule', 'hognose snake']\n",
    "# tail_idxs = [95, 136, 54]\n",
    "# head_classes = ['library', 'washing machine', 'computer mouse']\n",
    "# head_idxs = [624, 897, 673]\n"
   ]
  },
  {
   "cell_type": "code",
   "execution_count": null,
   "id": "3effbf1a",
   "metadata": {},
   "outputs": [],
   "source": [
    "import ImageReward as RM"
   ]
  },
  {
   "cell_type": "code",
   "execution_count": null,
   "id": "d4ddf059",
   "metadata": {},
   "outputs": [],
   "source": [
    "model = RM.load(\"ImageReward-v1.0\").to(\"cuda\")"
   ]
  },
  {
   "cell_type": "code",
   "execution_count": null,
   "id": "30780acc",
   "metadata": {},
   "outputs": [],
   "source": [
    "n_trials = 10\n",
    "\n",
    "images = pipe(tail_classes[0], num_images_per_prompt=n_trials).images"
   ]
  },
  {
   "cell_type": "code",
   "execution_count": null,
   "id": "ad8cbd71",
   "metadata": {},
   "outputs": [],
   "source": [
    "model.eval()"
   ]
  },
  {
   "cell_type": "code",
   "execution_count": null,
   "id": "f0e7daed",
   "metadata": {},
   "outputs": [],
   "source": [
    "with torch.no_grad():\n",
    "    score = model.score(tail_classes[0], images[0])"
   ]
  },
  {
   "cell_type": "code",
   "execution_count": null,
   "id": "d9af837e",
   "metadata": {},
   "outputs": [],
   "source": [
    "score"
   ]
  },
  {
   "cell_type": "code",
   "execution_count": null,
   "id": "2ec6f5dd",
   "metadata": {},
   "outputs": [],
   "source": [
    "images[1]"
   ]
  },
  {
   "cell_type": "code",
   "execution_count": null,
   "id": "d1f5c5b6",
   "metadata": {},
   "outputs": [],
   "source": [
    "from tqdm.auto import tqdm"
   ]
  },
  {
   "cell_type": "code",
   "execution_count": null,
   "id": "1884fec5",
   "metadata": {},
   "outputs": [],
   "source": [
    "n_trials = 100"
   ]
  },
  {
   "cell_type": "code",
   "execution_count": null,
   "id": "d7361e2c",
   "metadata": {},
   "outputs": [],
   "source": [
    "from collections import defaultdict\n",
    "all_classes = tail_classes + head_classes\n",
    "\n",
    "all_rewards = defaultdict(list)\n",
    "for prompt in tqdm(all_classes):\n",
    "    for i in range(n_trials):\n",
    "        images = pipe(prompt).images\n",
    "        with torch.no_grad():\n",
    "            for image in images:\n",
    "                score = model.score(prompt, image)\n",
    "                all_rewards[prompt].append(score)"
   ]
  },
  {
   "cell_type": "code",
   "execution_count": null,
   "id": "4d0bb6cd",
   "metadata": {},
   "outputs": [],
   "source": []
  },
  {
   "cell_type": "code",
   "execution_count": null,
   "id": "cf8268a3",
   "metadata": {},
   "outputs": [],
   "source": [
    "import numpy as np\n",
    "\n",
    "means = {}\n",
    "stds = {}\n",
    "mins = {}\n",
    "maxs = {}\n",
    "diffs = {}\n",
    "for p in all_rewards:\n",
    "    all_rewards[p] = np.array(all_rewards[p])\n",
    "    p_mean = np.mean(all_rewards[p])\n",
    "    p_std = np.std(all_rewards[p])\n",
    "    p_min = np.min(all_rewards[p])\n",
    "    p_max = np.max(all_rewards[p])\n",
    "\n",
    "    means[p] = p_mean\n",
    "    stds[p] = p_std\n",
    "    mins[p] = p_min\n",
    "    maxs[p] = p_max\n",
    "    diffs[p] = p_max - p_mean #np.median(all_rewards[p])\n",
    "    print(f\"For prompt {p}\\nMin = {p_min}\\nMax = {p_max}\\nMean = {p_mean}\\nMedian = {np.median(all_rewards[p])}\\n\\n\")\n"
   ]
  },
  {
   "cell_type": "code",
   "execution_count": null,
   "id": "6b20801f",
   "metadata": {},
   "outputs": [],
   "source": [
    "diffs"
   ]
  },
  {
   "cell_type": "code",
   "execution_count": null,
   "id": "f275fa8d",
   "metadata": {},
   "outputs": [],
   "source": [
    "sorted_mean_dict = sorted(means.items(), key = lambda kv: kv[1])\n",
    "sorted_means = [m[1] for m in sorted_mean_dict]\n",
    "sorted_prompts = [m[0] for m in sorted_mean_dict]\n",
    "sorted_stds = [stds[p] for p in sorted_prompts]"
   ]
  },
  {
   "cell_type": "code",
   "execution_count": null,
   "id": "77c9a231",
   "metadata": {},
   "outputs": [],
   "source": [
    "sorted_stds"
   ]
  },
  {
   "cell_type": "code",
   "execution_count": null,
   "id": "9b1c5674",
   "metadata": {},
   "outputs": [],
   "source": [
    "sorted_prompts"
   ]
  },
  {
   "cell_type": "code",
   "execution_count": null,
   "id": "849ea982",
   "metadata": {},
   "outputs": [],
   "source": [
    "import matplotlib.pyplot as plt \n",
    "\n",
    "fig, ax = plt.subplots()\n",
    "\n",
    "ax.scatter(x=sorted_means, y=sorted_stds, s=60)\n",
    "\n",
    "for x_i, y_i, txt in zip(sorted_means, sorted_stds, sorted_prompts):\n",
    "    ax.annotate(txt, (x_i, y_i),\n",
    "                xytext=(5, 5),            # pixel offset so text isn’t on top of the marker\n",
    "                textcoords='offset points')\n",
    "\n",
    "ax.set_xlabel(\"Reward Mean\")\n",
    "ax.set_ylabel(\"Reward Std.\")\n",
    "plt.tight_layout()\n",
    "plt.show()\n"
   ]
  },
  {
   "cell_type": "code",
   "execution_count": null,
   "id": "1ee005f9",
   "metadata": {},
   "outputs": [],
   "source": [
    "tail_rewards = []\n",
    "rewards_and_images = []\n",
    "for prompt in tqdm(tail_classes):\n",
    "    for i in range(n_trials):\n",
    "        images = pipe(prompt).images\n",
    "        with torch.no_grad():\n",
    "            for image in images:\n",
    "                score = model.score(prompt, image)\n",
    "                tail_rewards.append(score)\n",
    "                rewards_and_images.append( (prompt, image, score) )"
   ]
  },
  {
   "cell_type": "code",
   "execution_count": null,
   "id": "fdd49b2c",
   "metadata": {},
   "outputs": [],
   "source": [
    "head_rewards = []\n",
    "head_rewards_and_images = []\n",
    "for prompt in tqdm(head_classes):\n",
    "    for i in range(n_trials):\n",
    "        images = pipe(prompt).images\n",
    "        with torch.no_grad():\n",
    "            for image in images:\n",
    "                score = model.score(prompt, image)\n",
    "                head_rewards.append(score)\n",
    "                head_rewards_and_images.append( (prompt, image, score) )"
   ]
  },
  {
   "cell_type": "code",
   "execution_count": null,
   "id": "8a8ac02d",
   "metadata": {},
   "outputs": [],
   "source": [
    "import numpy as np\n",
    "\n",
    "head_rewards = np.array(head_rewards)\n",
    "tail_rewards = np.array(tail_rewards)\n",
    "\n",
    "head_mean = np.mean(head_rewards)\n",
    "tail_mean = np.mean(tail_rewards)\n",
    "\n",
    "head_std = np.std(head_rewards)\n",
    "tail_std = np.std(tail_rewards)\n",
    "\n",
    "print(f\"For tail classes, mean reward = {tail_mean} with std. {tail_std}\")\n",
    "print(f\"For 'head' classes, mean reward = {head_mean} with std. {head_std}\")"
   ]
  },
  {
   "cell_type": "code",
   "execution_count": null,
   "id": "d814bee2",
   "metadata": {},
   "outputs": [],
   "source": [
    "head_rewards_and_images[3]"
   ]
  },
  {
   "cell_type": "code",
   "execution_count": null,
   "id": "cbe45486",
   "metadata": {},
   "outputs": [],
   "source": [
    "import matplotlib.pyplot as plt\n",
    "\n",
    "plt.hist(head_rewards)\n",
    "plt.xlabel(\"Reward\")\n",
    "plt.ylabel(\"Count\")\n",
    "plt.title(\"Top 10%\")"
   ]
  },
  {
   "cell_type": "code",
   "execution_count": null,
   "id": "bd2ea979",
   "metadata": {},
   "outputs": [],
   "source": [
    "plt.hist(tail_rewards)\n",
    "plt.xlabel(\"Reward\")\n",
    "plt.ylabel(\"Count\")\n",
    "plt.title(\"Bottom 10%\")"
   ]
  },
  {
   "cell_type": "code",
   "execution_count": null,
   "id": "c09f4d07",
   "metadata": {},
   "outputs": [],
   "source": [
    "def show_images_grid(images, cols=10):\n",
    "    rows = math.ceil(len(images) / cols)\n",
    "    fig, axes = plt.subplots(rows, cols, figsize=(cols * 2, rows * 2))\n",
    "    for i, img in enumerate(images):\n",
    "        r, c = divmod(i, cols)\n",
    "        axes[r, c].imshow(img)\n",
    "        axes[r, c].axis('off')\n",
    "    # Hide unused subplots\n",
    "    for j in range(len(images), rows * cols):\n",
    "        r, c = divmod(j, cols)\n",
    "        axes[r, c].axis('off')\n",
    "    plt.tight_layout()\n",
    "    plt.show()\n"
   ]
  },
  {
   "cell_type": "code",
   "execution_count": null,
   "id": "08ee6ebf",
   "metadata": {},
   "outputs": [],
   "source": [
    "images = [h[1] for h in head_rewards_and_images]"
   ]
  },
  {
   "cell_type": "code",
   "execution_count": null,
   "id": "67da4b5d",
   "metadata": {},
   "outputs": [],
   "source": [
    "import math\n",
    "show_images_grid(images)"
   ]
  },
  {
   "cell_type": "code",
   "execution_count": null,
   "id": "384f8b8b",
   "metadata": {},
   "outputs": [],
   "source": [
    "def show_images_with_captions(images, captions, cols=10):\n",
    "    assert len(images) == len(captions), \"Images and captions must align\"\n",
    "    rows = math.ceil(len(images) / cols)\n",
    "    fig, axes = plt.subplots(rows, cols, figsize=(cols * 2.5, rows * 2.8))\n",
    "\n",
    "    for i, (img, caption) in enumerate(zip(images, captions)):\n",
    "        r, c = divmod(i, cols)\n",
    "        ax = axes[r, c]\n",
    "        ax.imshow(img)\n",
    "        ax.axis('off')\n",
    "        ax.text(0.5, -0.05, caption, fontsize=12, ha='center', va='top', transform=ax.transAxes, wrap=True)\n",
    "\n",
    "    for j in range(len(images), rows * cols):\n",
    "        r, c = divmod(j, cols)\n",
    "        axes[r, c].axis('off')\n",
    "\n",
    "    plt.tight_layout()\n",
    "    plt.show()\n"
   ]
  },
  {
   "cell_type": "code",
   "execution_count": null,
   "id": "f8dc7ec5",
   "metadata": {},
   "outputs": [],
   "source": [
    "def format_float(f):\n",
    "    return f\"{f:.4g}\"\n",
    "\n",
    "captions = [format_float(h[2]) for h in head_rewards_and_images]\n",
    "\n",
    "show_images_with_captions(images, captions, cols=15)"
   ]
  },
  {
   "cell_type": "code",
   "execution_count": null,
   "id": "5098159c",
   "metadata": {},
   "outputs": [],
   "source": [
    "images = [h[1] for h in rewards_and_images]\n",
    "captions = [format_float(h[2]) for h in rewards_and_images]\n",
    "\n",
    "show_images_with_captions(images, captions, cols=15)"
   ]
  },
  {
   "cell_type": "code",
   "execution_count": null,
   "id": "bb59d3c2",
   "metadata": {},
   "outputs": [],
   "source": []
  }
 ],
 "metadata": {
  "kernelspec": {
   "display_name": "diffusion",
   "language": "python",
   "name": "python3"
  },
  "language_info": {
   "codemirror_mode": {
    "name": "ipython",
    "version": 3
   },
   "file_extension": ".py",
   "mimetype": "text/x-python",
   "name": "python",
   "nbconvert_exporter": "python",
   "pygments_lexer": "ipython3",
   "version": "3.13.2"
  }
 },
 "nbformat": 4,
 "nbformat_minor": 5
}
