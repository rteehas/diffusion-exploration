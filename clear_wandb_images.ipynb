{
 "cells": [
  {
   "cell_type": "code",
   "execution_count": null,
   "id": "a12d4ceb",
   "metadata": {},
   "outputs": [],
   "source": [
    "from score_wandb_images import *"
   ]
  },
  {
   "cell_type": "code",
   "execution_count": null,
   "id": "4d391501",
   "metadata": {},
   "outputs": [],
   "source": [
    "run = load_run(\"u7nnseb1\", \"stable_diffusion_training\")"
   ]
  },
  {
   "cell_type": "code",
   "execution_count": null,
   "id": "e9cfd5f4",
   "metadata": {},
   "outputs": [],
   "source": [
    "list(run.files())"
   ]
  },
  {
   "cell_type": "code",
   "execution_count": null,
   "id": "b6819baf",
   "metadata": {},
   "outputs": [],
   "source": [
    "api = wandb.Api(timeout=1000)\n",
    "runs = api.runs(path='ryanteehan/stable_diffusion_training')\n"
   ]
  },
  {
   "cell_type": "code",
   "execution_count": null,
   "id": "34308401",
   "metadata": {},
   "outputs": [],
   "source": [
    "runs[1].id"
   ]
  },
  {
   "cell_type": "code",
   "execution_count": null,
   "id": "2361ed74",
   "metadata": {},
   "outputs": [],
   "source": [
    "len(runs)"
   ]
  },
  {
   "cell_type": "code",
   "execution_count": null,
   "id": "eda9657d",
   "metadata": {},
   "outputs": [],
   "source": [
    "from tqdm.auto import tqdm"
   ]
  },
  {
   "cell_type": "code",
   "execution_count": null,
   "id": "4c619f6c",
   "metadata": {},
   "outputs": [],
   "source": [
    "for r in tqdm(runs):\n",
    "    run = load_run(r.id, \"stable_diffusion_training\")\n",
    "    if run.state.lower() == \"running\":\n",
    "        print(r.id, len(list(run.files())))"
   ]
  },
  {
   "cell_type": "code",
   "execution_count": null,
   "id": "5a853d6c",
   "metadata": {},
   "outputs": [],
   "source": [
    "run = load_run(\"7246867328.07797-ca9d78e2-7f3a\", \"stable_diffusion_training\")"
   ]
  },
  {
   "cell_type": "code",
   "execution_count": null,
   "id": "a979b015",
   "metadata": {},
   "outputs": [],
   "source": [
    "run.state"
   ]
  },
  {
   "cell_type": "code",
   "execution_count": null,
   "id": "800c5980",
   "metadata": {},
   "outputs": [],
   "source": [
    "run.files()[0].name"
   ]
  },
  {
   "cell_type": "code",
   "execution_count": null,
   "id": "0519fe49",
   "metadata": {},
   "outputs": [],
   "source": [
    "len(run.files())"
   ]
  },
  {
   "cell_type": "code",
   "execution_count": null,
   "id": "5bd6ee2c",
   "metadata": {},
   "outputs": [],
   "source": [
    "for file in tqdm(run.files()):\n",
    "    if \"media/images/\" in file.name:\n",
    "        file.delete()"
   ]
  },
  {
   "cell_type": "code",
   "execution_count": null,
   "id": "31460f0b",
   "metadata": {},
   "outputs": [],
   "source": [
    "while True:\n",
    "    for r in tqdm(runs):\n",
    "        run = load_run(r.id, \"stable_diffusion_training\")\n",
    "        if run.state.lower() == \"running\":\n",
    "            images = [file for file in run.files() if \"media/images/\" in file.name]\n",
    "            if len(images) > 32:\n",
    "                print(f\"Deleting for run {run.id}...\")\n",
    "                to_delete = images[1:] #save one to preserve the folder \n",
    "                for file in tqdm(to_delete):\n",
    "                    file.delete()\n",
    "                # for file in tqdm(run.files()):\n",
    "                #     if \"media/images/\" in file.name:\n",
    "                #         file.delete()"
   ]
  }
 ],
 "metadata": {
  "kernelspec": {
   "display_name": "diffusion",
   "language": "python",
   "name": "python3"
  },
  "language_info": {
   "codemirror_mode": {
    "name": "ipython",
    "version": 3
   },
   "file_extension": ".py",
   "mimetype": "text/x-python",
   "name": "python",
   "nbconvert_exporter": "python",
   "pygments_lexer": "ipython3",
   "version": "3.13.2"
  }
 },
 "nbformat": 4,
 "nbformat_minor": 5
}
