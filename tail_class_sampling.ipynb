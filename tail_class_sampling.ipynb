{
 "cells": [
  {
   "cell_type": "code",
   "execution_count": null,
   "id": "20ff2fff",
   "metadata": {},
   "outputs": [],
   "source": [
    "import random\n",
    "import json"
   ]
  },
  {
   "cell_type": "code",
   "execution_count": null,
   "id": "c93ace87",
   "metadata": {},
   "outputs": [],
   "source": [
    "count_path = \"seedselect_data/imagenet_counts.json\"\n",
    "with open(count_path, encoding=\"utf-8\") as f:\n",
    "    counts = json.loads(f.read())\n"
   ]
  },
  {
   "cell_type": "code",
   "execution_count": null,
   "id": "d9426267",
   "metadata": {},
   "outputs": [],
   "source": [
    "max([counts[k] for k in counts])"
   ]
  },
  {
   "cell_type": "code",
   "execution_count": null,
   "id": "11c64f51",
   "metadata": {},
   "outputs": [],
   "source": [
    "head_threshold = 1000000\n",
    "tail_threshold = 1000\n",
    "\n",
    "head_classes = {k: v for k,v in counts.items() if v >= head_threshold}\n",
    "tail_classes = {k: v for k,v in counts.items() if v <= tail_threshold}"
   ]
  },
  {
   "cell_type": "code",
   "execution_count": null,
   "id": "6e506137",
   "metadata": {},
   "outputs": [],
   "source": [
    "len(tail_classes)"
   ]
  },
  {
   "cell_type": "code",
   "execution_count": null,
   "id": "7145ce25",
   "metadata": {},
   "outputs": [],
   "source": [
    "len(head_classes)"
   ]
  },
  {
   "cell_type": "code",
   "execution_count": null,
   "id": "88a3b597",
   "metadata": {},
   "outputs": [],
   "source": [
    "import matplotlib.pyplot as plt\n",
    "plt.hist([v for v in counts.values()], bins=200)"
   ]
  },
  {
   "cell_type": "code",
   "execution_count": null,
   "id": "c1d093fb",
   "metadata": {},
   "outputs": [],
   "source": [
    "import numpy as np\n",
    "percents = np.percentile([v for v in counts.values()], [10, 20, 40, 60, 80, 90])"
   ]
  },
  {
   "cell_type": "code",
   "execution_count": null,
   "id": "b9d30187",
   "metadata": {},
   "outputs": [],
   "source": [
    "tail_threshold = percents[0]\n",
    "head_threshold = percents[-1]\n",
    "\n",
    "print(f\"Head threshold = {head_threshold}\\nTail Threshold = {tail_threshold}\")\n",
    "head_classes = {k: v for k,v in counts.items() if v >= head_threshold}\n",
    "tail_classes = {k: v for k,v in counts.items() if v <= tail_threshold}\n",
    "\n",
    "print(f\"Number of Head and Tail classes = {len(head_classes)}, {len(tail_classes)}\")"
   ]
  },
  {
   "cell_type": "code",
   "execution_count": null,
   "id": "e53c93e4",
   "metadata": {},
   "outputs": [],
   "source": [
    "tail_threshold"
   ]
  },
  {
   "cell_type": "code",
   "execution_count": null,
   "id": "e107d60b",
   "metadata": {},
   "outputs": [],
   "source": [
    "imagenet_index_path = \"imagenet_class_index.json\"\n",
    "\n",
    "with open(imagenet_index_path, encoding=\"utf-8\") as f:\n",
    "    index = json.loads(f.read())\n"
   ]
  },
  {
   "cell_type": "code",
   "execution_count": null,
   "id": "09587374",
   "metadata": {},
   "outputs": [],
   "source": [
    "reverse_index = {v[1]: k for k,v in index.items()}"
   ]
  },
  {
   "cell_type": "code",
   "execution_count": null,
   "id": "e0b35699",
   "metadata": {},
   "outputs": [],
   "source": [
    "head_classes"
   ]
  },
  {
   "cell_type": "code",
   "execution_count": null,
   "id": "6c007f8b",
   "metadata": {},
   "outputs": [],
   "source": [
    "reverse_index['lighter']"
   ]
  },
  {
   "cell_type": "code",
   "execution_count": null,
   "id": "73722583",
   "metadata": {},
   "outputs": [],
   "source": [
    "def get_classes_and_indices(class_dict, index):\n",
    "    sampled = np.random.choice(list(class_dict.keys()), size=50, replace=False)\n",
    "    indices = []\n",
    "    for s in sampled:\n",
    "        class_name = s.split(\",\")[0]\n",
    "        class_name = class_name.replace(\" \", \"_\")\n",
    "        indices.append(index[class_name])\n",
    "\n",
    "    return sampled, indices\n",
    "\n",
    "# sampled_tail = np.random.choice(list(tail_classes.keys()), size=3, replace=False)\n",
    "# sampled_head = np.random.choice(list(head_classes.keys()), size=3, replace=False)\n",
    "get_classes_and_indices(tail_classes, reverse_index)"
   ]
  },
  {
   "cell_type": "code",
   "execution_count": null,
   "id": "5edd3e33",
   "metadata": {},
   "outputs": [],
   "source": [
    "sampled_tail, tail_indices = get_classes_and_indices(tail_classes, reverse_index)\n",
    "sampled_head, head_indices = get_classes_and_indices(head_classes, reverse_index)\n",
    "\n",
    "print(sampled_tail, tail_indices)\n",
    "print(sampled_head, head_indices)"
   ]
  },
  {
   "cell_type": "code",
   "execution_count": null,
   "id": "2dee381b",
   "metadata": {},
   "outputs": [],
   "source": [
    "print(\"Tail classes\", [t.split(\",\")[0] for t in sampled_tail])\n",
    "print([int(i) for i in tail_indices])\n"
   ]
  },
  {
   "cell_type": "code",
   "execution_count": null,
   "id": "e6a036f5",
   "metadata": {},
   "outputs": [],
   "source": [
    "print(\"Head classes\", [t.split(\",\")[0] for t in sampled_head])\n",
    "print([int(i) for i in head_indices])"
   ]
  },
  {
   "cell_type": "code",
   "execution_count": null,
   "id": "d9069f9a",
   "metadata": {},
   "outputs": [],
   "source": [
    "sampled_tail"
   ]
  },
  {
   "cell_type": "code",
   "execution_count": null,
   "id": "9f588c27",
   "metadata": {},
   "outputs": [],
   "source": []
  }
 ],
 "metadata": {
  "kernelspec": {
   "display_name": "diffusion",
   "language": "python",
   "name": "python3"
  },
  "language_info": {
   "codemirror_mode": {
    "name": "ipython",
    "version": 3
   },
   "file_extension": ".py",
   "mimetype": "text/x-python",
   "name": "python",
   "nbconvert_exporter": "python",
   "pygments_lexer": "ipython3",
   "version": "3.13.2"
  }
 },
 "nbformat": 4,
 "nbformat_minor": 5
}
